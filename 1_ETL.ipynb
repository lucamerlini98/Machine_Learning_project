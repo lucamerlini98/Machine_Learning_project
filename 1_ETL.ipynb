{
 "cells": [
  {
   "cell_type": "markdown",
   "id": "4571e30e-d67f-4dbc-8951-e4583b794f00",
   "metadata": {},
   "source": [
    "# Employee future prediction\n",
    "- Il dipartimento HR di una società ha il compito di predire il futuro degli impiegati cercando di capire chi lascerà o meno la società nei due anni successivi.\n",
    "- Problema di apprendimento supervisionato.\n",
    "- Si tratta di classificazione binaria.\n",
    "- Obiettivo: trovare il miglior modello predittivo per individuare coloro che abbandoneranno. "
   ]
  },
  {
   "cell_type": "code",
   "execution_count": 1,
   "id": "02b16ad7-a678-4864-a99a-e0c7d8f53fff",
   "metadata": {},
   "outputs": [],
   "source": [
    "# importo le librerie utili al data preprocessing\n",
    "import os\n",
    "import pandas as pd\n",
    "import numpy as np\n",
    "import pickle\n",
    "\n",
    "# Data preprocessing and trasformation (ETL)\n",
    "from sklearn.experimental import enable_iterative_imputer\n",
    "from sklearn.impute import SimpleImputer, IterativeImputer\n",
    "from sklearn.base import BaseEstimator, TransformerMixin\n",
    "from sklearn.preprocessing import StandardScaler, MinMaxScaler, RobustScaler, MaxAbsScaler, FunctionTransformer, Binarizer, OneHotEncoder, OrdinalEncoder\n",
    "from sklearn.pipeline import Pipeline\n",
    "from sklearn.compose import ColumnTransformer\n",
    "from sklearn.model_selection import train_test_split\n",
    "from scipy.stats import chi2_contingency\n",
    "# Math and Stat modules\n",
    "import numpy as np\n",
    "from scipy.special import logit, expit\n",
    "from scipy import stats\n",
    "\n",
    "# Visualization\n",
    "import matplotlib.pyplot as plt\n",
    "import seaborn as sns\n",
    "from pandas.plotting import scatter_matrix\n"
   ]
  },
  {
   "cell_type": "code",
   "execution_count": 2,
   "id": "b2742eb3-2573-416d-b865-505628bf38da",
   "metadata": {},
   "outputs": [],
   "source": [
    "# importo il dataset \n",
    "employee_dataset = pd.read_csv('data/Employee.csv')"
   ]
  },
  {
   "cell_type": "code",
   "execution_count": 3,
   "id": "bc23be53-0e4b-46a5-af89-1bbae83e23d3",
   "metadata": {},
   "outputs": [
    {
     "data": {
      "text/html": [
       "<div>\n",
       "<style scoped>\n",
       "    .dataframe tbody tr th:only-of-type {\n",
       "        vertical-align: middle;\n",
       "    }\n",
       "\n",
       "    .dataframe tbody tr th {\n",
       "        vertical-align: top;\n",
       "    }\n",
       "\n",
       "    .dataframe thead th {\n",
       "        text-align: right;\n",
       "    }\n",
       "</style>\n",
       "<table border=\"1\" class=\"dataframe\">\n",
       "  <thead>\n",
       "    <tr style=\"text-align: right;\">\n",
       "      <th></th>\n",
       "      <th>Education</th>\n",
       "      <th>JoiningYear</th>\n",
       "      <th>City</th>\n",
       "      <th>PaymentTier</th>\n",
       "      <th>Age</th>\n",
       "      <th>Gender</th>\n",
       "      <th>EverBenched</th>\n",
       "      <th>ExperienceInCurrentDomain</th>\n",
       "      <th>LeaveOrNot</th>\n",
       "    </tr>\n",
       "  </thead>\n",
       "  <tbody>\n",
       "    <tr>\n",
       "      <th>0</th>\n",
       "      <td>Bachelors</td>\n",
       "      <td>2017</td>\n",
       "      <td>Bangalore</td>\n",
       "      <td>3</td>\n",
       "      <td>34</td>\n",
       "      <td>Male</td>\n",
       "      <td>No</td>\n",
       "      <td>0</td>\n",
       "      <td>0</td>\n",
       "    </tr>\n",
       "    <tr>\n",
       "      <th>1</th>\n",
       "      <td>Bachelors</td>\n",
       "      <td>2013</td>\n",
       "      <td>Pune</td>\n",
       "      <td>1</td>\n",
       "      <td>28</td>\n",
       "      <td>Female</td>\n",
       "      <td>No</td>\n",
       "      <td>3</td>\n",
       "      <td>1</td>\n",
       "    </tr>\n",
       "    <tr>\n",
       "      <th>2</th>\n",
       "      <td>Bachelors</td>\n",
       "      <td>2014</td>\n",
       "      <td>New Delhi</td>\n",
       "      <td>3</td>\n",
       "      <td>38</td>\n",
       "      <td>Female</td>\n",
       "      <td>No</td>\n",
       "      <td>2</td>\n",
       "      <td>0</td>\n",
       "    </tr>\n",
       "    <tr>\n",
       "      <th>3</th>\n",
       "      <td>Masters</td>\n",
       "      <td>2016</td>\n",
       "      <td>Bangalore</td>\n",
       "      <td>3</td>\n",
       "      <td>27</td>\n",
       "      <td>Male</td>\n",
       "      <td>No</td>\n",
       "      <td>5</td>\n",
       "      <td>1</td>\n",
       "    </tr>\n",
       "    <tr>\n",
       "      <th>4</th>\n",
       "      <td>Masters</td>\n",
       "      <td>2017</td>\n",
       "      <td>Pune</td>\n",
       "      <td>3</td>\n",
       "      <td>24</td>\n",
       "      <td>Male</td>\n",
       "      <td>Yes</td>\n",
       "      <td>2</td>\n",
       "      <td>1</td>\n",
       "    </tr>\n",
       "    <tr>\n",
       "      <th>...</th>\n",
       "      <td>...</td>\n",
       "      <td>...</td>\n",
       "      <td>...</td>\n",
       "      <td>...</td>\n",
       "      <td>...</td>\n",
       "      <td>...</td>\n",
       "      <td>...</td>\n",
       "      <td>...</td>\n",
       "      <td>...</td>\n",
       "    </tr>\n",
       "    <tr>\n",
       "      <th>4648</th>\n",
       "      <td>Bachelors</td>\n",
       "      <td>2013</td>\n",
       "      <td>Bangalore</td>\n",
       "      <td>3</td>\n",
       "      <td>26</td>\n",
       "      <td>Female</td>\n",
       "      <td>No</td>\n",
       "      <td>4</td>\n",
       "      <td>0</td>\n",
       "    </tr>\n",
       "    <tr>\n",
       "      <th>4649</th>\n",
       "      <td>Masters</td>\n",
       "      <td>2013</td>\n",
       "      <td>Pune</td>\n",
       "      <td>2</td>\n",
       "      <td>37</td>\n",
       "      <td>Male</td>\n",
       "      <td>No</td>\n",
       "      <td>2</td>\n",
       "      <td>1</td>\n",
       "    </tr>\n",
       "    <tr>\n",
       "      <th>4650</th>\n",
       "      <td>Masters</td>\n",
       "      <td>2018</td>\n",
       "      <td>New Delhi</td>\n",
       "      <td>3</td>\n",
       "      <td>27</td>\n",
       "      <td>Male</td>\n",
       "      <td>No</td>\n",
       "      <td>5</td>\n",
       "      <td>1</td>\n",
       "    </tr>\n",
       "    <tr>\n",
       "      <th>4651</th>\n",
       "      <td>Bachelors</td>\n",
       "      <td>2012</td>\n",
       "      <td>Bangalore</td>\n",
       "      <td>3</td>\n",
       "      <td>30</td>\n",
       "      <td>Male</td>\n",
       "      <td>Yes</td>\n",
       "      <td>2</td>\n",
       "      <td>0</td>\n",
       "    </tr>\n",
       "    <tr>\n",
       "      <th>4652</th>\n",
       "      <td>Bachelors</td>\n",
       "      <td>2015</td>\n",
       "      <td>Bangalore</td>\n",
       "      <td>3</td>\n",
       "      <td>33</td>\n",
       "      <td>Male</td>\n",
       "      <td>Yes</td>\n",
       "      <td>4</td>\n",
       "      <td>0</td>\n",
       "    </tr>\n",
       "  </tbody>\n",
       "</table>\n",
       "<p>4653 rows × 9 columns</p>\n",
       "</div>"
      ],
      "text/plain": [
       "      Education  JoiningYear       City  PaymentTier  Age  Gender EverBenched  \\\n",
       "0     Bachelors         2017  Bangalore            3   34    Male          No   \n",
       "1     Bachelors         2013       Pune            1   28  Female          No   \n",
       "2     Bachelors         2014  New Delhi            3   38  Female          No   \n",
       "3       Masters         2016  Bangalore            3   27    Male          No   \n",
       "4       Masters         2017       Pune            3   24    Male         Yes   \n",
       "...         ...          ...        ...          ...  ...     ...         ...   \n",
       "4648  Bachelors         2013  Bangalore            3   26  Female          No   \n",
       "4649    Masters         2013       Pune            2   37    Male          No   \n",
       "4650    Masters         2018  New Delhi            3   27    Male          No   \n",
       "4651  Bachelors         2012  Bangalore            3   30    Male         Yes   \n",
       "4652  Bachelors         2015  Bangalore            3   33    Male         Yes   \n",
       "\n",
       "      ExperienceInCurrentDomain  LeaveOrNot  \n",
       "0                             0           0  \n",
       "1                             3           1  \n",
       "2                             2           0  \n",
       "3                             5           1  \n",
       "4                             2           1  \n",
       "...                         ...         ...  \n",
       "4648                          4           0  \n",
       "4649                          2           1  \n",
       "4650                          5           1  \n",
       "4651                          2           0  \n",
       "4652                          4           0  \n",
       "\n",
       "[4653 rows x 9 columns]"
      ]
     },
     "execution_count": 3,
     "metadata": {},
     "output_type": "execute_result"
    }
   ],
   "source": [
    "employee_dataset"
   ]
  },
  {
   "cell_type": "markdown",
   "id": "ace9c3b8-e570-400c-8a54-20f76865694c",
   "metadata": {},
   "source": [
    "# 1. Analisi descrittiva"
   ]
  },
  {
   "cell_type": "code",
   "execution_count": 4,
   "id": "8d9c3183-864d-4aac-93da-e20e7977b8b6",
   "metadata": {},
   "outputs": [
    {
     "name": "stdout",
     "output_type": "stream",
     "text": [
      "<class 'pandas.core.frame.DataFrame'>\n",
      "RangeIndex: 4653 entries, 0 to 4652\n",
      "Data columns (total 9 columns):\n",
      " #   Column                     Non-Null Count  Dtype \n",
      "---  ------                     --------------  ----- \n",
      " 0   Education                  4653 non-null   object\n",
      " 1   JoiningYear                4653 non-null   int64 \n",
      " 2   City                       4653 non-null   object\n",
      " 3   PaymentTier                4653 non-null   int64 \n",
      " 4   Age                        4653 non-null   int64 \n",
      " 5   Gender                     4653 non-null   object\n",
      " 6   EverBenched                4653 non-null   object\n",
      " 7   ExperienceInCurrentDomain  4653 non-null   int64 \n",
      " 8   LeaveOrNot                 4653 non-null   int64 \n",
      "dtypes: int64(5), object(4)\n",
      "memory usage: 327.3+ KB\n"
     ]
    }
   ],
   "source": [
    "# osserviamo che non sono presenti dati nulli, quindi non ci sarà bisogno di utilizzare un imputer\n",
    "employee_dataset.info() "
   ]
  },
  {
   "cell_type": "code",
   "execution_count": 5,
   "id": "6429c9f5-e5e4-4b9d-b03b-21b530340baa",
   "metadata": {},
   "outputs": [
    {
     "name": "stdout",
     "output_type": "stream",
     "text": [
      "Bachelors    3601\n",
      "Masters       873\n",
      "PHD           179\n",
      "Name: Education, dtype: int64\n",
      "2017    1108\n",
      "2015     781\n",
      "2014     699\n",
      "2013     669\n",
      "2016     525\n",
      "2012     504\n",
      "2018     367\n",
      "Name: JoiningYear, dtype: int64\n",
      "Bangalore    2228\n",
      "Pune         1268\n",
      "New Delhi    1157\n",
      "Name: City, dtype: int64\n",
      "3    3492\n",
      "2     918\n",
      "1     243\n",
      "Name: PaymentTier, dtype: int64\n",
      "26    645\n",
      "28    630\n",
      "27    625\n",
      "25    418\n",
      "24    385\n",
      "29    230\n",
      "30    220\n",
      "37    141\n",
      "36    139\n",
      "34    136\n",
      "38    136\n",
      "40    134\n",
      "32    132\n",
      "39    131\n",
      "31    125\n",
      "33    124\n",
      "35    123\n",
      "41     82\n",
      "22     49\n",
      "23     48\n",
      "Name: Age, dtype: int64\n",
      "Male      2778\n",
      "Female    1875\n",
      "Name: Gender, dtype: int64\n",
      "No     4175\n",
      "Yes     478\n",
      "Name: EverBenched, dtype: int64\n",
      "2    1087\n",
      "4     931\n",
      "5     919\n",
      "3     786\n",
      "1     558\n",
      "0     355\n",
      "7       9\n",
      "6       8\n",
      "Name: ExperienceInCurrentDomain, dtype: int64\n",
      "0    3053\n",
      "1    1600\n",
      "Name: LeaveOrNot, dtype: int64\n"
     ]
    }
   ],
   "source": [
    "# valori possibili per ogni feature\n",
    "for i in employee_dataset.columns:\n",
    "    print(employee_dataset[i].value_counts())"
   ]
  },
  {
   "cell_type": "code",
   "execution_count": 6,
   "id": "8a770f0e-7989-4877-ae4b-33c6a434288a",
   "metadata": {},
   "outputs": [],
   "source": [
    "#trasformazione paymenttier da variabile numerica a variabile categoriale\n",
    "employee_dataset['PaymentTier']= employee_dataset['PaymentTier'].map(\n",
    "    {1: 'Low' ,\n",
    "     2: 'Mid',\n",
    "     3: 'High'\n",
    "    }\n",
    ")"
   ]
  },
  {
   "cell_type": "markdown",
   "id": "1817bd20-4936-4898-889a-0d77c24a7a6e",
   "metadata": {},
   "source": [
    "| Nome colonna | Significato| Range |\n",
    "| --- | --- | --- |\n",
    "|Education| Livello di istruzione dell'impiegato| 'Bachelors', 'Masters', 'PHD' |\n",
    "|JoiningYear| Indica l'anno di assunzione | 2012 : 2018 |\n",
    "|City| Indica la città dell'ufficio | 'Bangalore', 'New Delhi', 'Pune' |\n",
    "|PaymentTier| Livello di stipendio| 'Low' , 'Mid', 'High' |\n",
    "|Age |Età del dipendente| 22 : 41 |\n",
    "|Gender| Genere del cliente| 'Female', 'Male' |\n",
    "|EverBenched| Se il dipendente è rimasto escluso dai progetti per più di un mese| 'No', 'Yes' |\n",
    "|ExperienceInCurrentDomain| Anni di esperienza nel settore| 0 : 7 |\n",
    "|LeaveOrNot| Label: 1 se il dipendente lascia la società, 0 se non lascia| 0, 1 |"
   ]
  },
  {
   "cell_type": "code",
   "execution_count": 7,
   "id": "bca10076-37ed-4751-a78b-53a38054ccdd",
   "metadata": {},
   "outputs": [
    {
     "data": {
      "text/html": [
       "<div>\n",
       "<style scoped>\n",
       "    .dataframe tbody tr th:only-of-type {\n",
       "        vertical-align: middle;\n",
       "    }\n",
       "\n",
       "    .dataframe tbody tr th {\n",
       "        vertical-align: top;\n",
       "    }\n",
       "\n",
       "    .dataframe thead th {\n",
       "        text-align: right;\n",
       "    }\n",
       "</style>\n",
       "<table border=\"1\" class=\"dataframe\">\n",
       "  <thead>\n",
       "    <tr style=\"text-align: right;\">\n",
       "      <th></th>\n",
       "      <th>JoiningYear</th>\n",
       "      <th>Age</th>\n",
       "      <th>ExperienceInCurrentDomain</th>\n",
       "      <th>LeaveOrNot</th>\n",
       "    </tr>\n",
       "  </thead>\n",
       "  <tbody>\n",
       "    <tr>\n",
       "      <th>count</th>\n",
       "      <td>4653.000000</td>\n",
       "      <td>4653.000000</td>\n",
       "      <td>4653.000000</td>\n",
       "      <td>4653.000000</td>\n",
       "    </tr>\n",
       "    <tr>\n",
       "      <th>mean</th>\n",
       "      <td>2015.062970</td>\n",
       "      <td>29.393295</td>\n",
       "      <td>2.905652</td>\n",
       "      <td>0.343864</td>\n",
       "    </tr>\n",
       "    <tr>\n",
       "      <th>std</th>\n",
       "      <td>1.863377</td>\n",
       "      <td>4.826087</td>\n",
       "      <td>1.558240</td>\n",
       "      <td>0.475047</td>\n",
       "    </tr>\n",
       "    <tr>\n",
       "      <th>min</th>\n",
       "      <td>2012.000000</td>\n",
       "      <td>22.000000</td>\n",
       "      <td>0.000000</td>\n",
       "      <td>0.000000</td>\n",
       "    </tr>\n",
       "    <tr>\n",
       "      <th>25%</th>\n",
       "      <td>2013.000000</td>\n",
       "      <td>26.000000</td>\n",
       "      <td>2.000000</td>\n",
       "      <td>0.000000</td>\n",
       "    </tr>\n",
       "    <tr>\n",
       "      <th>50%</th>\n",
       "      <td>2015.000000</td>\n",
       "      <td>28.000000</td>\n",
       "      <td>3.000000</td>\n",
       "      <td>0.000000</td>\n",
       "    </tr>\n",
       "    <tr>\n",
       "      <th>75%</th>\n",
       "      <td>2017.000000</td>\n",
       "      <td>32.000000</td>\n",
       "      <td>4.000000</td>\n",
       "      <td>1.000000</td>\n",
       "    </tr>\n",
       "    <tr>\n",
       "      <th>max</th>\n",
       "      <td>2018.000000</td>\n",
       "      <td>41.000000</td>\n",
       "      <td>7.000000</td>\n",
       "      <td>1.000000</td>\n",
       "    </tr>\n",
       "  </tbody>\n",
       "</table>\n",
       "</div>"
      ],
      "text/plain": [
       "       JoiningYear          Age  ExperienceInCurrentDomain   LeaveOrNot\n",
       "count  4653.000000  4653.000000                4653.000000  4653.000000\n",
       "mean   2015.062970    29.393295                   2.905652     0.343864\n",
       "std       1.863377     4.826087                   1.558240     0.475047\n",
       "min    2012.000000    22.000000                   0.000000     0.000000\n",
       "25%    2013.000000    26.000000                   2.000000     0.000000\n",
       "50%    2015.000000    28.000000                   3.000000     0.000000\n",
       "75%    2017.000000    32.000000                   4.000000     1.000000\n",
       "max    2018.000000    41.000000                   7.000000     1.000000"
      ]
     },
     "execution_count": 7,
     "metadata": {},
     "output_type": "execute_result"
    }
   ],
   "source": [
    "employee_dataset.describe()"
   ]
  },
  {
   "cell_type": "code",
   "execution_count": 8,
   "id": "761ca957-424a-4975-8739-64f8c53bc158",
   "metadata": {},
   "outputs": [],
   "source": [
    "#definizione della funzione per i grafici\n",
    "def n_plot (df,x_size= 30,y_size=30,*args,**kwargs ):\n",
    "    fig, axes = plt.subplots(nrows=3, ncols=3, \n",
    "                             figsize=(x_size,y_size)\n",
    "                            )\n",
    "    axes = axes.flatten()\n",
    "    \n",
    "    for i, j in zip(df.columns, axes):\n",
    "        if i!= 'PaymentTier':\n",
    "            sns.countplot(data=df, x=i,ax=j, *args,**kwargs)\n",
    "        else:\n",
    "            sns.countplot(data=df, x=i,ax=j, order=['Low', 'Mid','High'], *args,**kwargs)\n"
   ]
  },
  {
   "cell_type": "code",
   "execution_count": 9,
   "id": "27f6e164-3878-415b-8b4b-18659019b6f2",
   "metadata": {},
   "outputs": [
    {
     "data": {
      "image/png": "[encoded data removed]",
      "text/plain": [
       "<Figure size 2160x2160 with 9 Axes>"
      ]
     },
     "metadata": {
      "needs_background": "light"
     },
     "output_type": "display_data"
    }
   ],
   "source": [
    "# bar plot \n",
    "n_plot(employee_dataset)"
   ]
  },
  {
   "cell_type": "markdown",
   "id": "d5aed6a6-745c-482e-962b-6dba36fcb629",
   "metadata": {},
   "source": [
    "- **Variabili numeriche**: Dalla distribuzione delle frequenze per feature si può notare che la feature Age ha una distribuzione molto skew, la feature JoiningYear potrebbe essere quasi uniforme, mentre la feature ExperienceInCurrentDomain presente due frequenze molto basse per i valori 6 e 7\n",
    "- **Variabile label**: Per la classe LeaveOrNot si può notare un rapporto quasi 2 a 1 per chi non lascia"
   ]
  },
  {
   "cell_type": "code",
   "execution_count": 10,
   "id": "0b91727c-d961-493c-8b68-e12e9e948ae6",
   "metadata": {},
   "outputs": [
    {
     "data": {
      "image/png": "[encoded data removed]",
      "text/plain": [
       "<Figure size 2160x2160 with 9 Axes>"
      ]
     },
     "metadata": {
      "needs_background": "light"
     },
     "output_type": "display_data"
    }
   ],
   "source": [
    "# multi bar plot\n",
    "n_plot(employee_dataset, hue=employee_dataset[\"LeaveOrNot\"])"
   ]
  },
  {
   "cell_type": "markdown",
   "id": "3efc4bbc-c48c-46c1-912e-8c05cb6ac022",
   "metadata": {},
   "source": [
    "- Dal multiple bar chart si può osservare la ripartizione delle frequenze ogni feature anche in riferimento alla variabile target\n",
    "- Guardando la città di Pune si può notare che i dipendendi che lasciano sono di più rispetto ai dipendenti che lasciano \n",
    "- L'anno 2018 nella variabile JoiningYear mostra un numero molto alto di dipendenti che lasciano rispetto agli altri anni di assunzione\n",
    "- La classe di stipendio Mid mostra più casi di abbandono rispetto alle altre classi\n",
    "- Anche il genere potrebbe influire sull'abbandono"
   ]
  },
  {
   "cell_type": "code",
   "execution_count": 11,
   "id": "fcaf22d8-a9b9-4dfb-bf2d-72ffcbd73822",
   "metadata": {},
   "outputs": [],
   "source": [
    "#  calcolo della tabella di contingenza per le variabili 'PaymentTier' e 'LeaveOrNot'\n",
    "contigency= pd.crosstab(employee_dataset['PaymentTier'], employee_dataset['LeaveOrNot']) "
   ]
  },
  {
   "cell_type": "code",
   "execution_count": 12,
   "id": "77e6961b-5977-4620-bc18-4806acbaa40a",
   "metadata": {},
   "outputs": [
    {
     "name": "stdout",
     "output_type": "stream",
     "text": [
      "2.93299047322625e-74\n"
     ]
    }
   ],
   "source": [
    "# test chi-quadrato per l'indipendenza, risultato molto significativo\n",
    "c, p_value, dof, expected = chi2_contingency(contigency)\n",
    "print(p_value)"
   ]
  },
  {
   "cell_type": "code",
   "execution_count": 13,
   "id": "01d4a1d2-a2d5-4983-a25e-e4875b5d9dce",
   "metadata": {},
   "outputs": [],
   "source": [
    "# estraggo colonna label\n",
    "employee_label = employee_dataset.LeaveOrNot"
   ]
  },
  {
   "cell_type": "code",
   "execution_count": 14,
   "id": "30d06c79-e0ac-4a14-a683-8af0bfb5abdd",
   "metadata": {},
   "outputs": [],
   "source": [
    "# rimuovo dal dataset la label\n",
    "employee_dataset.drop(columns= ['LeaveOrNot'], inplace=True)"
   ]
  },
  {
   "cell_type": "code",
   "execution_count": 15,
   "id": "6dd63043-5098-42da-b0bc-df80b5ee6a0f",
   "metadata": {},
   "outputs": [
    {
     "data": {
      "text/html": [
       "<div>\n",
       "<style scoped>\n",
       "    .dataframe tbody tr th:only-of-type {\n",
       "        vertical-align: middle;\n",
       "    }\n",
       "\n",
       "    .dataframe tbody tr th {\n",
       "        vertical-align: top;\n",
       "    }\n",
       "\n",
       "    .dataframe thead th {\n",
       "        text-align: right;\n",
       "    }\n",
       "</style>\n",
       "<table border=\"1\" class=\"dataframe\">\n",
       "  <thead>\n",
       "    <tr style=\"text-align: right;\">\n",
       "      <th></th>\n",
       "      <th>JoiningYear</th>\n",
       "      <th>Age</th>\n",
       "      <th>ExperienceInCurrentDomain</th>\n",
       "    </tr>\n",
       "  </thead>\n",
       "  <tbody>\n",
       "    <tr>\n",
       "      <th>JoiningYear</th>\n",
       "      <td>1.000000</td>\n",
       "      <td>0.013165</td>\n",
       "      <td>-0.036525</td>\n",
       "    </tr>\n",
       "    <tr>\n",
       "      <th>Age</th>\n",
       "      <td>0.013165</td>\n",
       "      <td>1.000000</td>\n",
       "      <td>-0.134643</td>\n",
       "    </tr>\n",
       "    <tr>\n",
       "      <th>ExperienceInCurrentDomain</th>\n",
       "      <td>-0.036525</td>\n",
       "      <td>-0.134643</td>\n",
       "      <td>1.000000</td>\n",
       "    </tr>\n",
       "  </tbody>\n",
       "</table>\n",
       "</div>"
      ],
      "text/plain": [
       "                           JoiningYear       Age  ExperienceInCurrentDomain\n",
       "JoiningYear                   1.000000  0.013165                  -0.036525\n",
       "Age                           0.013165  1.000000                  -0.134643\n",
       "ExperienceInCurrentDomain    -0.036525 -0.134643                   1.000000"
      ]
     },
     "execution_count": 15,
     "metadata": {},
     "output_type": "execute_result"
    }
   ],
   "source": [
    "# matrice di correlazione, le variabili non sembrano correlate (bassa correlazione)\n",
    "matrice_correlazione = employee_dataset.corr()\n",
    "matrice_correlazione"
   ]
  },
  {
   "cell_type": "markdown",
   "id": "9ad9bb96-b7bd-4df5-9c53-7778c0628847",
   "metadata": {},
   "source": [
    "# 2. Trasformazione pipeline"
   ]
  },
  {
   "cell_type": "markdown",
   "id": "65feca38-0e38-4106-b989-bcdc52a63bf9",
   "metadata": {},
   "source": [
    "- Utilizzo di diversi scaler per le variabili: età e anni di esperienza e anno di assunzione\n",
    "- per la feature age si può notare una distribuzione skew quindi si utilizzerà una trasformazione robust scaler\n",
    "- si può inferire dagli istogrammi delle frequenze che il robust scaler centra la moda a zero rispettando una distribuzione normale con presenza di skewness"
   ]
  },
  {
   "cell_type": "code",
   "execution_count": 16,
   "id": "24ebff47-afa4-4c13-83d2-f73654b5549b",
   "metadata": {},
   "outputs": [],
   "source": [
    "# definisco gli scaler\n",
    "std_scaler = StandardScaler()\n",
    "robust_scaler = RobustScaler()\n",
    "minmax_scaler = MinMaxScaler()"
   ]
  },
  {
   "cell_type": "code",
   "execution_count": 17,
   "id": "e646389d-bf10-4acd-9a30-014588b2dd57",
   "metadata": {},
   "outputs": [],
   "source": [
    "#applico gli scaler all'età\n",
    "age_scaled = std_scaler.fit_transform(employee_dataset['Age'].values.reshape(-1,1))\n",
    "age_robust =robust_scaler.fit_transform(employee_dataset['Age'].values.reshape(-1,1))\n",
    "age_minmax = minmax_scaler.fit_transform(employee_dataset['Age'].values.reshape(-1,1))"
   ]
  },
  {
   "cell_type": "code",
   "execution_count": 18,
   "id": "288730a5-8bb9-4a77-a58d-000d3b6547a8",
   "metadata": {},
   "outputs": [
    {
     "data": {
      "text/plain": [
       "(array([  97.,  803., 1270.,  860.,  345.,  256.,  259.,  280.,  267.,\n",
       "         216.]),\n",
       " array([-1.53210856, -1.13837256, -0.74463656, -0.35090056,  0.04283544,\n",
       "         0.43657144,  0.83030744,  1.22404345,  1.61777945,  2.01151545,\n",
       "         2.40525145]),\n",
       " <BarContainer object of 10 artists>)"
      ]
     },
     "execution_count": 18,
     "metadata": {},
     "output_type": "execute_result"
    },
    {
     "data": {
      "image/png": "[encoded data removed]",
      "text/plain": [
       "<Figure size 432x288 with 1 Axes>"
      ]
     },
     "metadata": {
      "needs_background": "light"
     },
     "output_type": "display_data"
    }
   ],
   "source": [
    "plt.hist(age_scaled)"
   ]
  },
  {
   "cell_type": "code",
   "execution_count": 19,
   "id": "d60fc122-38fa-45ea-8e75-4ab9df36b8f3",
   "metadata": {},
   "outputs": [
    {
     "data": {
      "text/plain": [
       "(array([  97.,  803., 1270.,  860.,  345.,  256.,  259.,  280.,  267.,\n",
       "         216.]),\n",
       " array([-1.        , -0.68333333, -0.36666667, -0.05      ,  0.26666667,\n",
       "         0.58333333,  0.9       ,  1.21666667,  1.53333333,  1.85      ,\n",
       "         2.16666667]),\n",
       " <BarContainer object of 10 artists>)"
      ]
     },
     "execution_count": 19,
     "metadata": {},
     "output_type": "execute_result"
    },
    {
     "data": {
      "image/png": "[encoded data removed]",
      "text/plain": [
       "<Figure size 432x288 with 1 Axes>"
      ]
     },
     "metadata": {
      "needs_background": "light"
     },
     "output_type": "display_data"
    }
   ],
   "source": [
    "# dagli istogrammi si può notare che lo scaler robust centra il picco in 0, per questo è da preferire\n",
    "plt.hist(age_robust)"
   ]
  },
  {
   "cell_type": "code",
   "execution_count": 20,
   "id": "972abaff-1576-4b3d-95d8-51c0e816ff41",
   "metadata": {},
   "outputs": [
    {
     "data": {
      "text/plain": [
       "(array([  97.,  803., 1270.,  860.,  345.,  256.,  259.,  280.,  267.,\n",
       "         216.]),\n",
       " array([0. , 0.1, 0.2, 0.3, 0.4, 0.5, 0.6, 0.7, 0.8, 0.9, 1. ]),\n",
       " <BarContainer object of 10 artists>)"
      ]
     },
     "execution_count": 20,
     "metadata": {},
     "output_type": "execute_result"
    },
    {
     "data": {
      "image/png": "[encoded data removed]",
      "text/plain": [
       "<Figure size 432x288 with 1 Axes>"
      ]
     },
     "metadata": {
      "needs_background": "light"
     },
     "output_type": "display_data"
    }
   ],
   "source": [
    "plt.hist(age_minmax)"
   ]
  },
  {
   "cell_type": "code",
   "execution_count": 21,
   "id": "25ea7452-86b9-4fa2-996c-ec93436de873",
   "metadata": {},
   "outputs": [],
   "source": [
    "# Per ExperienceInCurrentDomain si procederà con uno standard scaler, la distribuzione potrebbe essere ricondotta ad una normale\n",
    "exp_scaled = std_scaler.fit_transform(employee_dataset['ExperienceInCurrentDomain'].values.reshape(-1,1))\n",
    "exp_robust = robust_scaler.fit_transform(employee_dataset['ExperienceInCurrentDomain'].values.reshape(-1,1))"
   ]
  },
  {
   "cell_type": "code",
   "execution_count": 22,
   "id": "75ea71ab-7d34-4ada-b990-84a4eb0d6f94",
   "metadata": {},
   "outputs": [
    {
     "data": {
      "text/plain": [
       "(array([ 355.,  558., 1087.,    0.,  786.,  931.,    0.,  919.,    8.,\n",
       "           9.]),\n",
       " array([-1.5 , -1.15, -0.8 , -0.45, -0.1 ,  0.25,  0.6 ,  0.95,  1.3 ,\n",
       "         1.65,  2.  ]),\n",
       " <BarContainer object of 10 artists>)"
      ]
     },
     "execution_count": 22,
     "metadata": {},
     "output_type": "execute_result"
    },
    {
     "data": {
      "image/png": "[encoded data removed]",
      "text/plain": [
       "<Figure size 432x288 with 1 Axes>"
      ]
     },
     "metadata": {
      "needs_background": "light"
     },
     "output_type": "display_data"
    }
   ],
   "source": [
    "plt.hist(exp_robust)"
   ]
  },
  {
   "cell_type": "code",
   "execution_count": 23,
   "id": "fcb103f9-995d-4c09-b496-74081fe25b0e",
   "metadata": {},
   "outputs": [
    {
     "data": {
      "text/plain": [
       "(array([ 355.,  558., 1087.,    0.,  786.,  931.,    0.,  919.,    8.,\n",
       "           9.]),\n",
       " array([-1.86490139, -1.41562843, -0.96635548, -0.51708253, -0.06780958,\n",
       "         0.38146337,  0.83073632,  1.28000927,  1.72928223,  2.17855518,\n",
       "         2.62782813]),\n",
       " <BarContainer object of 10 artists>)"
      ]
     },
     "execution_count": 23,
     "metadata": {},
     "output_type": "execute_result"
    },
    {
     "data": {
      "image/png": "[encoded data removed]",
      "text/plain": [
       "<Figure size 432x288 with 1 Axes>"
      ]
     },
     "metadata": {
      "needs_background": "light"
     },
     "output_type": "display_data"
    }
   ],
   "source": [
    "plt.hist(exp_scaled)"
   ]
  },
  {
   "cell_type": "code",
   "execution_count": 24,
   "id": "044a95f2-da18-4b5b-a4b0-2f4e9c6c7c2c",
   "metadata": {},
   "outputs": [],
   "source": [
    "# per la feature joiningyear si può notare una distribuzione quasi uniforme quindi si utilizzerà una trasformazione min max scaler"
   ]
  },
  {
   "cell_type": "code",
   "execution_count": 25,
   "id": "1bb7ad15-3723-43da-a414-976d90a181ae",
   "metadata": {},
   "outputs": [],
   "source": [
    "# creazione della pipeline\n",
    "# per variabili binarie utilizzo ordinal encoder\n",
    "data_preprocessing = ColumnTransformer([\n",
    "    ('education', OrdinalEncoder(categories=[['Bachelors', 'Masters','PHD']]), ['Education']),\n",
    "    ('paymenttier', OrdinalEncoder(categories=[['Low', 'Mid', 'High']]), ['PaymentTier']),\n",
    "    ('everbenched', OrdinalEncoder(categories=[['No', 'Yes']]), ['EverBenched']),\n",
    "    ('gender', OrdinalEncoder(categories=[['Female', 'Male']]), ['Gender']),\n",
    "    ('city', OneHotEncoder() , ['City']),\n",
    "    ('age', robust_scaler, ['Age']),\n",
    "    ('joining', minmax_scaler, ['JoiningYear']),\n",
    "    ('exp', std_scaler, ['ExperienceInCurrentDomain']),\n",
    "\n",
    "],\n",
    "    remainder = 'passthrough'\n",
    ")\n"
   ]
  },
  {
   "cell_type": "code",
   "execution_count": 26,
   "id": "13ba7649-4422-4d6a-b2d1-776df3f7a37c",
   "metadata": {},
   "outputs": [],
   "source": [
    "# creazione daella matrice dei dati trasformata\n",
    "feature_matrix = data_preprocessing.fit_transform(employee_dataset)"
   ]
  },
  {
   "cell_type": "code",
   "execution_count": 27,
   "id": "7b2d33c2-b9b5-4335-badb-ff0649af97d5",
   "metadata": {},
   "outputs": [
    {
     "data": {
      "text/plain": [
       "(4653, 10)"
      ]
     },
     "execution_count": 27,
     "metadata": {},
     "output_type": "execute_result"
    }
   ],
   "source": [
    "feature_matrix.shape"
   ]
  },
  {
   "cell_type": "code",
   "execution_count": 28,
   "id": "caa9c4de-78a5-4d25-bef4-e07681fe54dc",
   "metadata": {},
   "outputs": [
    {
     "data": {
      "text/plain": [
       "['Education',\n",
       " 'PaymentTier',\n",
       " 'EverBenched',\n",
       " 'Gender',\n",
       " 'City_cat1',\n",
       " 'City_cat2',\n",
       " 'City_cat3',\n",
       " 'Age',\n",
       " 'JoiningYear',\n",
       " 'ExperienceInCurrentDomain']"
      ]
     },
     "execution_count": 28,
     "metadata": {},
     "output_type": "execute_result"
    }
   ],
   "source": [
    "# creazione nuova lista delle colonne \n",
    "columns_name = ['Education','PaymentTier', 'EverBenched','Gender',  ]\n",
    "columns_name.extend(['City_cat{}'.format(i) for i in range(1,len(employee_dataset['City'].unique())+1)])\n",
    "columns_name.append('Age')\n",
    "columns_name.append('JoiningYear')\n",
    "columns_name.append('ExperienceInCurrentDomain')\n",
    "columns_name"
   ]
  },
  {
   "cell_type": "code",
   "execution_count": 29,
   "id": "a1b1e16b-f6eb-40f7-8440-4e29f51930fc",
   "metadata": {},
   "outputs": [
    {
     "data": {
      "text/plain": [
       "ColumnTransformer(remainder='passthrough',\n",
       "                  transformers=[('education',\n",
       "                                 OrdinalEncoder(categories=[['Bachelors',\n",
       "                                                             'Masters',\n",
       "                                                             'PHD']]),\n",
       "                                 ['Education']),\n",
       "                                ('paymenttier',\n",
       "                                 OrdinalEncoder(categories=[['Low', 'Mid',\n",
       "                                                             'High']]),\n",
       "                                 ['PaymentTier']),\n",
       "                                ('everbenched',\n",
       "                                 OrdinalEncoder(categories=[['No', 'Yes']]),\n",
       "                                 ['EverBenched']),\n",
       "                                ('gender',\n",
       "                                 OrdinalEncoder(categories=[['Female',\n",
       "                                                             'Male']]),\n",
       "                                 ['Gender']),\n",
       "                                ('city', OneHotEncoder(), ['City']),\n",
       "                                ('age', RobustScaler(), ['Age']),\n",
       "                                ('joining', MinMaxScaler(), ['JoiningYear']),\n",
       "                                ('exp', StandardScaler(),\n",
       "                                 ['ExperienceInCurrentDomain'])])"
      ]
     },
     "execution_count": 29,
     "metadata": {},
     "output_type": "execute_result"
    }
   ],
   "source": [
    "data_preprocessing"
   ]
  },
  {
   "cell_type": "code",
   "execution_count": 30,
   "id": "1188de91-61e5-48d3-90d8-7f5789daf599",
   "metadata": {},
   "outputs": [],
   "source": [
    "# salvo i dati processati\n",
    "with open('data/feature_matrix.pickle', 'wb') as s:\n",
    "    pickle.dump(feature_matrix, s)"
   ]
  },
  {
   "cell_type": "code",
   "execution_count": 31,
   "id": "a907f3fb-91d6-4d8c-bc67-35e2e5299733",
   "metadata": {},
   "outputs": [],
   "source": [
    "with open('data/columns_name.pickle', 'wb') as s:\n",
    "    pickle.dump(columns_name, s)"
   ]
  },
  {
   "cell_type": "code",
   "execution_count": 32,
   "id": "d04c00e3-fcbe-4e75-8661-578e5078419d",
   "metadata": {},
   "outputs": [],
   "source": [
    "with open('data/employee_label.pickle', 'wb') as s:\n",
    "    pickle.dump(employee_label, s)"
   ]
  }
 ],
 "metadata": {
  "kernelspec": {
   "display_name": "Python 3 (ipykernel)",
   "language": "python",
   "name": "python3"
  },
  "language_info": {
   "codemirror_mode": {
    "name": "ipython",
    "version": 3
   },
   "file_extension": ".py",
   "mimetype": "text/x-python",
   "name": "python",
   "nbconvert_exporter": "python",
   "pygments_lexer": "ipython3",
   "version": "3.9.7"
  }
 },
 "nbformat": 4,
 "nbformat_minor": 5
}
